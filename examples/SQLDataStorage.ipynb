{
 "cells": [
  {
   "cell_type": "markdown",
   "metadata": {},
   "source": [
    "# Use Proxima SQLDataStorage Data Adapter"
   ]
  },
  {
   "cell_type": "code",
   "execution_count": 1,
   "metadata": {},
   "outputs": [],
   "source": [
    "from proxima.data import SQLDataStorage"
   ]
  },
  {
   "cell_type": "code",
   "execution_count": 2,
   "metadata": {},
   "outputs": [],
   "source": [
    "data = SQLDataStorage('sqlite:///prox', table=\"data\")\n",
    "inputs = [float(i) for i in range(0,10)]\n",
    "outputs = [float(i**3) for i in range(0,10)]\n",
    "data.add_pairs(inputs, outputs)"
   ]
  },
  {
   "cell_type": "code",
   "execution_count": 3,
   "metadata": {},
   "outputs": [
    {
     "data": {
      "text/plain": [
       "[(0.0, 0.0),\n",
       " (1.0, 1.0),\n",
       " (2.0, 8.0),\n",
       " (3.0, 27.0),\n",
       " (4.0, 64.0),\n",
       " (5.0, 125.0),\n",
       " (6.0, 216.0),\n",
       " (7.0, 343.0),\n",
       " (8.0, 512.0),\n",
       " (9.0, 729.0)]"
      ]
     },
     "execution_count": 3,
     "metadata": {},
     "output_type": "execute_result"
    }
   ],
   "source": [
    "list(zip(data.inputs, data.outputs))"
   ]
  },
  {
   "cell_type": "code",
   "execution_count": 5,
   "metadata": {},
   "outputs": [
    {
     "name": "stdout",
     "output_type": "stream",
     "text": [
      "[(0.0, 0.0), (1.0, 1.0), (2.0, 8.0)]\n",
      "[(3.0, 27.0), (4.0, 64.0), (5.0, 125.0)]\n",
      "[(6.0, 216.0), (7.0, 343.0), (8.0, 512.0)]\n",
      "[(9.0, 729.0)]\n",
      "[]\n"
     ]
    }
   ],
   "source": [
    "for res in data.iterate_over_data(batch_size=3):\n",
    "    print(res)"
   ]
  },
  {
   "cell_type": "code",
   "execution_count": 11,
   "metadata": {},
   "outputs": [
    {
     "data": {
      "text/plain": [
       "130"
      ]
     },
     "execution_count": 11,
     "metadata": {},
     "output_type": "execute_result"
    }
   ],
   "source": [
    "data.get_all_data()"
   ]
  }
 ],
 "metadata": {
  "kernelspec": {
   "display_name": "Python 3",
   "language": "python",
   "name": "python3"
  },
  "language_info": {
   "codemirror_mode": {
    "name": "ipython",
    "version": 3
   },
   "file_extension": ".py",
   "mimetype": "text/x-python",
   "name": "python",
   "nbconvert_exporter": "python",
   "pygments_lexer": "ipython3",
   "version": "3.6.7"
  }
 },
 "nbformat": 4,
 "nbformat_minor": 2
}
